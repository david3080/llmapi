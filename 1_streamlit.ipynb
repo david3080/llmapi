{
  "cells": [
    {
      "cell_type": "markdown",
      "metadata": {
        "colab_type": "text",
        "id": "view-in-github"
      },
      "source": [
        "<a href=\"https://colab.research.google.com/github/david3080/llmapi/blob/main/1_streamlit.ipynb\" target=\"_parent\"><img src=\"https://colab.research.google.com/assets/colab-badge.svg\" alt=\"Open In Colab\"/></a>"
      ]
    },
    {
      "cell_type": "markdown",
      "metadata": {},
      "source": [
        "# StreamlitとOpenAI"
      ]
    },
    {
      "cell_type": "code",
      "execution_count": null,
      "metadata": {
        "id": "6iil3f3c5avK"
      },
      "outputs": [],
      "source": [
        "%pip install streamlit openai"
      ]
    },
    {
      "cell_type": "code",
      "execution_count": null,
      "metadata": {
        "colab": {
          "base_uri": "https://localhost:8080/"
        },
        "id": "DIKw1jSh5fjI",
        "outputId": "8ebc3973-4417-4b05-8a85-2b8c6bb247b3"
      },
      "outputs": [],
      "source": [
        "%%writefile app.py\n",
        "import openai\n",
        "import streamlit as st\n",
        "\n",
        "if \"all_text\" not in st.session_state:\n",
        "    st.session_state.all_text = []\n",
        "\n",
        "with st.sidebar:\n",
        "    st.title(\"AIチャット\")\n",
        "    api_key = st.text_input(\"OPEN_AI_KEY\", type=\"password\", value=\"proj-zZKqByVU6kxVyC7JevYUT3BlbkFJgTrlTrZLAYmuYiNdytVS\")\n",
        "\n",
        "if api_key:\n",
        "    openai.api_key = api_key\n",
        "    user_prompt = st.chat_input(\"user:\")\n",
        "    assistant_text = \"\"\n",
        "    for text_info in st.session_state.all_text:\n",
        "        with st.chat_message(text_info[\"role\"], avatar=text_info[\"role\"]):\n",
        "            st.write(text_info[\"role\"] + \":\\n\\n\" + text_info[\"content\"])\n",
        "\n",
        "    if user_prompt:\n",
        "        with st.chat_message(\"user\", avatar=\"user\"):\n",
        "            st.write(\"user\" + \":\\n\\n\" + user_prompt)\n",
        "\n",
        "        st.session_state.all_text.append({\"role\": \"user\", \"content\": user_prompt})\n",
        "\n",
        "        if len(st.session_state.all_text) > 10:\n",
        "            st.session_state.all_text.pop(1)\n",
        "\n",
        "        response = openai.chat.completions.create(\n",
        "            model=\"gpt-4\",\n",
        "            messages=st.session_state.all_text,\n",
        "            stream=True,\n",
        "        )\n",
        "        with st.chat_message(\"assistant\", avatar=\"assistant\"):\n",
        "            place = st.empty()\n",
        "            for chunk in response:\n",
        "                content = chunk.choices[0].delta.content\n",
        "                if content:\n",
        "                    assistant_text += content\n",
        "                    place.write(\"assistant\" + \":\\n\\n\" + assistant_text)\n",
        "\n",
        "        st.session_state.all_text.append(\n",
        "            {\"role\": \"assistant\", \"content\": assistant_text}\n",
        "        )\n",
        "else:\n",
        "    st.info(\"👈OPEN_AI_KEYを入力してください。\")"
      ]
    },
    {
      "cell_type": "code",
      "execution_count": null,
      "metadata": {
        "colab": {
          "base_uri": "https://localhost:8080/"
        },
        "id": "bXLFvNig5kSR",
        "outputId": "ed24e0bb-55ad-4513-f40d-d5977c5f88e9"
      },
      "outputs": [],
      "source": [
        "!streamlit run app.py & sleep 3 && npx localtunnel --port 8501"
      ]
    }
  ],
  "metadata": {
    "colab": {
      "authorship_tag": "ABX9TyM/OJVkw9gs5WoZw9FqBybq",
      "include_colab_link": true,
      "provenance": []
    },
    "kernelspec": {
      "display_name": "Python 3",
      "name": "python3"
    },
    "language_info": {
      "codemirror_mode": {
        "name": "ipython",
        "version": 3
      },
      "file_extension": ".py",
      "mimetype": "text/x-python",
      "name": "python",
      "nbconvert_exporter": "python",
      "pygments_lexer": "ipython3",
      "version": "3.11.9"
    }
  },
  "nbformat": 4,
  "nbformat_minor": 0
}
