{
  "cells": [
    {
      "cell_type": "markdown",
      "metadata": {
        "colab_type": "text",
        "id": "view-in-github"
      },
      "source": [
        "<a href=\"https://colab.research.google.com/github/david3080/llmapi/blob/main/1_streamlit.ipynb\" target=\"_parent\"><img src=\"https://colab.research.google.com/assets/colab-badge.svg\" alt=\"Open In Colab\"/></a>"
      ]
    },
    {
      "cell_type": "markdown",
      "metadata": {},
      "source": [
        "# 1. チャットアプリ開発"
      ]
    },
    {
      "cell_type": "markdown",
      "metadata": {},
      "source": [
        "Streamlitを使用した、OpenAIのGPT-4モデルとチャットするWebアプリケーションの作成"
      ]
    },
    {
      "cell_type": "markdown",
      "metadata": {},
      "source": [
        "### ステップ1. 必要なライブラリのインストール\n",
        "streamlitとopenaiのライブラリをインストールします。"
      ]
    },
    {
      "cell_type": "code",
      "execution_count": 4,
      "metadata": {
        "id": "6iil3f3c5avK"
      },
      "outputs": [
        {
          "name": "stdout",
          "output_type": "stream",
          "text": [
            "Requirement already satisfied: streamlit in /opt/homebrew/lib/python3.10/site-packages (1.36.0)\n",
            "Requirement already satisfied: openai in /opt/homebrew/lib/python3.10/site-packages (1.35.7)\n",
            "Requirement already satisfied: altair<6,>=4.0 in /opt/homebrew/lib/python3.10/site-packages (from streamlit) (5.3.0)\n",
            "Requirement already satisfied: blinker<2,>=1.0.0 in /opt/homebrew/lib/python3.10/site-packages (from streamlit) (1.8.2)\n",
            "Requirement already satisfied: cachetools<6,>=4.0 in /opt/homebrew/lib/python3.10/site-packages (from streamlit) (5.3.3)\n",
            "Requirement already satisfied: click<9,>=7.0 in /opt/homebrew/lib/python3.10/site-packages (from streamlit) (8.1.3)\n",
            "Requirement already satisfied: numpy<3,>=1.20 in /opt/homebrew/lib/python3.10/site-packages (from streamlit) (1.24.1)\n",
            "Requirement already satisfied: packaging<25,>=20 in /Users/masa/Library/Python/3.10/lib/python/site-packages (from streamlit) (24.1)\n",
            "Requirement already satisfied: pandas<3,>=1.3.0 in /opt/homebrew/lib/python3.10/site-packages (from streamlit) (2.2.2)\n",
            "Requirement already satisfied: pillow<11,>=7.1.0 in /opt/homebrew/lib/python3.10/site-packages (from streamlit) (10.4.0)\n",
            "Requirement already satisfied: protobuf<6,>=3.20 in /opt/homebrew/lib/python3.10/site-packages (from streamlit) (5.27.2)\n",
            "Requirement already satisfied: pyarrow>=7.0 in /opt/homebrew/lib/python3.10/site-packages (from streamlit) (16.1.0)\n",
            "Requirement already satisfied: requests<3,>=2.27 in /opt/homebrew/lib/python3.10/site-packages (from streamlit) (2.32.3)\n",
            "Requirement already satisfied: rich<14,>=10.14.0 in /opt/homebrew/lib/python3.10/site-packages (from streamlit) (13.7.1)\n",
            "Requirement already satisfied: tenacity<9,>=8.1.0 in /opt/homebrew/lib/python3.10/site-packages (from streamlit) (8.4.2)\n",
            "Requirement already satisfied: toml<2,>=0.10.1 in /opt/homebrew/lib/python3.10/site-packages (from streamlit) (0.10.2)\n",
            "Requirement already satisfied: typing-extensions<5,>=4.3.0 in /Users/masa/Library/Python/3.10/lib/python/site-packages (from streamlit) (4.12.2)\n",
            "Requirement already satisfied: gitpython!=3.1.19,<4,>=3.0.7 in /opt/homebrew/lib/python3.10/site-packages (from streamlit) (3.1.43)\n",
            "Requirement already satisfied: pydeck<1,>=0.8.0b4 in /opt/homebrew/lib/python3.10/site-packages (from streamlit) (0.9.1)\n",
            "Requirement already satisfied: tornado<7,>=6.0.3 in /Users/masa/Library/Python/3.10/lib/python/site-packages (from streamlit) (6.4.1)\n",
            "Requirement already satisfied: anyio<5,>=3.5.0 in /opt/homebrew/lib/python3.10/site-packages (from openai) (4.4.0)\n",
            "Requirement already satisfied: distro<2,>=1.7.0 in /opt/homebrew/lib/python3.10/site-packages (from openai) (1.9.0)\n",
            "Requirement already satisfied: httpx<1,>=0.23.0 in /opt/homebrew/lib/python3.10/site-packages (from openai) (0.27.0)\n",
            "Requirement already satisfied: pydantic<3,>=1.9.0 in /opt/homebrew/lib/python3.10/site-packages (from openai) (2.8.0)\n",
            "Requirement already satisfied: sniffio in /opt/homebrew/lib/python3.10/site-packages (from openai) (1.3.1)\n",
            "Requirement already satisfied: tqdm>4 in /opt/homebrew/lib/python3.10/site-packages (from openai) (4.66.4)\n",
            "Requirement already satisfied: jinja2 in /opt/homebrew/lib/python3.10/site-packages (from altair<6,>=4.0->streamlit) (3.1.4)\n",
            "Requirement already satisfied: jsonschema>=3.0 in /opt/homebrew/lib/python3.10/site-packages (from altair<6,>=4.0->streamlit) (4.22.0)\n",
            "Requirement already satisfied: toolz in /opt/homebrew/lib/python3.10/site-packages (from altair<6,>=4.0->streamlit) (0.12.1)\n",
            "Requirement already satisfied: idna>=2.8 in /opt/homebrew/lib/python3.10/site-packages (from anyio<5,>=3.5.0->openai) (3.7)\n",
            "Requirement already satisfied: exceptiongroup>=1.0.2 in /Users/masa/Library/Python/3.10/lib/python/site-packages (from anyio<5,>=3.5.0->openai) (1.2.1)\n",
            "Requirement already satisfied: gitdb<5,>=4.0.1 in /opt/homebrew/lib/python3.10/site-packages (from gitpython!=3.1.19,<4,>=3.0.7->streamlit) (4.0.11)\n",
            "Requirement already satisfied: certifi in /opt/homebrew/lib/python3.10/site-packages (from httpx<1,>=0.23.0->openai) (2024.6.2)\n",
            "Requirement already satisfied: httpcore==1.* in /opt/homebrew/lib/python3.10/site-packages (from httpx<1,>=0.23.0->openai) (1.0.5)\n",
            "Requirement already satisfied: h11<0.15,>=0.13 in /opt/homebrew/lib/python3.10/site-packages (from httpcore==1.*->httpx<1,>=0.23.0->openai) (0.14.0)\n",
            "Requirement already satisfied: python-dateutil>=2.8.2 in /Users/masa/Library/Python/3.10/lib/python/site-packages (from pandas<3,>=1.3.0->streamlit) (2.9.0.post0)\n",
            "Requirement already satisfied: pytz>=2020.1 in /opt/homebrew/lib/python3.10/site-packages (from pandas<3,>=1.3.0->streamlit) (2024.1)\n",
            "Requirement already satisfied: tzdata>=2022.7 in /opt/homebrew/lib/python3.10/site-packages (from pandas<3,>=1.3.0->streamlit) (2024.1)\n",
            "Requirement already satisfied: annotated-types>=0.4.0 in /opt/homebrew/lib/python3.10/site-packages (from pydantic<3,>=1.9.0->openai) (0.7.0)\n",
            "Requirement already satisfied: pydantic-core==2.20.0 in /opt/homebrew/lib/python3.10/site-packages (from pydantic<3,>=1.9.0->openai) (2.20.0)\n",
            "Requirement already satisfied: charset-normalizer<4,>=2 in /opt/homebrew/lib/python3.10/site-packages (from requests<3,>=2.27->streamlit) (3.3.2)\n",
            "Requirement already satisfied: urllib3<3,>=1.21.1 in /opt/homebrew/lib/python3.10/site-packages (from requests<3,>=2.27->streamlit) (2.2.2)\n",
            "Requirement already satisfied: markdown-it-py>=2.2.0 in /opt/homebrew/lib/python3.10/site-packages (from rich<14,>=10.14.0->streamlit) (3.0.0)\n",
            "Requirement already satisfied: pygments<3.0.0,>=2.13.0 in /Users/masa/Library/Python/3.10/lib/python/site-packages (from rich<14,>=10.14.0->streamlit) (2.18.0)\n",
            "Requirement already satisfied: smmap<6,>=3.0.1 in /opt/homebrew/lib/python3.10/site-packages (from gitdb<5,>=4.0.1->gitpython!=3.1.19,<4,>=3.0.7->streamlit) (5.0.1)\n",
            "Requirement already satisfied: MarkupSafe>=2.0 in /opt/homebrew/lib/python3.10/site-packages (from jinja2->altair<6,>=4.0->streamlit) (2.1.5)\n",
            "Requirement already satisfied: attrs>=22.2.0 in /opt/homebrew/lib/python3.10/site-packages (from jsonschema>=3.0->altair<6,>=4.0->streamlit) (23.2.0)\n",
            "Requirement already satisfied: jsonschema-specifications>=2023.03.6 in /opt/homebrew/lib/python3.10/site-packages (from jsonschema>=3.0->altair<6,>=4.0->streamlit) (2023.12.1)\n",
            "Requirement already satisfied: referencing>=0.28.4 in /opt/homebrew/lib/python3.10/site-packages (from jsonschema>=3.0->altair<6,>=4.0->streamlit) (0.35.1)\n",
            "Requirement already satisfied: rpds-py>=0.7.1 in /opt/homebrew/lib/python3.10/site-packages (from jsonschema>=3.0->altair<6,>=4.0->streamlit) (0.18.1)\n",
            "Requirement already satisfied: mdurl~=0.1 in /opt/homebrew/lib/python3.10/site-packages (from markdown-it-py>=2.2.0->rich<14,>=10.14.0->streamlit) (0.1.2)\n",
            "Requirement already satisfied: six>=1.5 in /opt/homebrew/lib/python3.10/site-packages (from python-dateutil>=2.8.2->pandas<3,>=1.3.0->streamlit) (1.16.0)\n",
            "\n",
            "\u001b[1m[\u001b[0m\u001b[34;49mnotice\u001b[0m\u001b[1;39;49m]\u001b[0m\u001b[39;49m A new release of pip is available: \u001b[0m\u001b[31;49m24.0\u001b[0m\u001b[39;49m -> \u001b[0m\u001b[32;49m24.1.1\u001b[0m\n",
            "\u001b[1m[\u001b[0m\u001b[34;49mnotice\u001b[0m\u001b[1;39;49m]\u001b[0m\u001b[39;49m To update, run: \u001b[0m\u001b[32;49mpython3.10 -m pip install --upgrade pip\u001b[0m\n",
            "Note: you may need to restart the kernel to use updated packages.\n"
          ]
        }
      ],
      "source": [
        "%pip install streamlit openai"
      ]
    },
    {
      "cell_type": "markdown",
      "metadata": {},
      "source": [
        "### ステップ2. Streamlitのアプリケーションを作成する\n",
        "Streamlitのアプリケーションを作成するためのファイルを作成します。\n",
        "このファイルは、app.pyという名前で保存します。"
      ]
    },
    {
      "cell_type": "code",
      "execution_count": 2,
      "metadata": {
        "colab": {
          "base_uri": "https://localhost:8080/"
        },
        "id": "DIKw1jSh5fjI",
        "outputId": "8ebc3973-4417-4b05-8a85-2b8c6bb247b3"
      },
      "outputs": [
        {
          "name": "stdout",
          "output_type": "stream",
          "text": [
            "Writing app.py\n"
          ]
        }
      ],
      "source": [
        "%%writefile app.py\n",
        "import openai\n",
        "import streamlit as st\n",
        "\n",
        "# セッション状態にall_textがない場合は、空のリストを作成する\n",
        "if \"all_text\" not in st.session_state:\n",
        "    st.session_state.all_text = []\n",
        "\n",
        "# サイドバーにAPIキーを入力するフォームを作成する\n",
        "with st.sidebar:\n",
        "    st.title(\"AIチャット\")\n",
        "    api_key = st.text_input(\"OPEN_AI_KEY\", type=\"password\")\n",
        "\n",
        "if api_key:\n",
        "    # APIキーが入力された場合は、openaiのAPIキーを設定する\n",
        "    openai.api_key = api_key\n",
        "    # ユーザープロンプトの入力エリアを取得する\n",
        "    user_prompt = st.chat_input(\"user:\")\n",
        "    # アシスタントのテキストを空にする\n",
        "    assistant_text = \"\"\n",
        "    # ユーザーが入力したテキストとアシスタントが返したテキストの履歴を表示する\n",
        "    for text_info in st.session_state.all_text:\n",
        "        with st.chat_message(text_info[\"role\"], avatar=text_info[\"role\"]):\n",
        "            st.write(text_info[\"role\"] + \":\\n\\n\" + text_info[\"content\"])\n",
        "\n",
        "    # ユーザによるプロンプトがある場合は、ユーザのプロンプトを追加する\n",
        "    if user_prompt:\n",
        "        with st.chat_message(\"user\", avatar=\"user\"):\n",
        "            st.write(\"user\" + \":\\n\\n\" + user_prompt)\n",
        "\n",
        "        st.session_state.all_text.append({\"role\": \"user\", \"content\": user_prompt})\n",
        "\n",
        "        # ユーザーのプロンプトが10個以上ある場合は、最初のプロンプトを削除する\n",
        "        if len(st.session_state.all_text) > 10:\n",
        "            st.session_state.all_text.pop(1)\n",
        "\n",
        "        # ユーザーのプロンプトをGPT-4モデルで応答する\n",
        "        response = openai.chat.completions.create(\n",
        "            model=\"gpt-4\",\n",
        "            messages=st.session_state.all_text,\n",
        "            stream=True,\n",
        "        )\n",
        "        with st.chat_message(\"assistant\", avatar=\"assistant\"):\n",
        "            place = st.empty()\n",
        "            for chunk in response:\n",
        "                content = chunk.choices[0].delta.content\n",
        "                if content:\n",
        "                    assistant_text += content\n",
        "                    place.write(\"assistant\" + \":\\n\\n\" + assistant_text)\n",
        "\n",
        "        st.session_state.all_text.append(\n",
        "            {\"role\": \"assistant\", \"content\": assistant_text}\n",
        "        )\n",
        "else:\n",
        "    # ユーザがAPIキーを入力していない場合は、入力を促すメッセージを表示する\n",
        "    st.info(\"👈OPEN_AI_KEYを入力してください。\")"
      ]
    },
    {
      "cell_type": "code",
      "execution_count": null,
      "metadata": {
        "colab": {
          "base_uri": "https://localhost:8080/"
        },
        "id": "bXLFvNig5kSR",
        "outputId": "ed24e0bb-55ad-4513-f40d-d5977c5f88e9"
      },
      "outputs": [],
      "source": [
        "!streamlit run app.py & sleep 3 && npx localtunnel --port 8501"
      ]
    }
  ],
  "metadata": {
    "colab": {
      "authorship_tag": "ABX9TyM/OJVkw9gs5WoZw9FqBybq",
      "include_colab_link": true,
      "provenance": []
    },
    "kernelspec": {
      "display_name": "Python 3",
      "name": "python3"
    },
    "language_info": {
      "codemirror_mode": {
        "name": "ipython",
        "version": 3
      },
      "file_extension": ".py",
      "mimetype": "text/x-python",
      "name": "python",
      "nbconvert_exporter": "python",
      "pygments_lexer": "ipython3",
      "version": "3.10.14"
    }
  },
  "nbformat": 4,
  "nbformat_minor": 0
}
