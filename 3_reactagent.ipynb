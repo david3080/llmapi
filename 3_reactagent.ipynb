{
  "cells": [
    {
      "cell_type": "markdown",
      "metadata": {
        "colab_type": "text",
        "id": "view-in-github"
      },
      "source": [
        "<a href=\"https://colab.research.google.com/github/david3080/llmapi/blob/main/2_reactagent.ipynb\" target=\"_parent\"><img src=\"https://colab.research.google.com/assets/colab-badge.svg\" alt=\"Open In Colab\"/></a>"
      ]
    },
    {
      "cell_type": "markdown",
      "metadata": {
        "id": "OzsRXoCSLC14"
      },
      "source": [
        "# 3.ReActエージェントを使ったRAG実装\n",
        "\n",
        "1. LlamaIndex関連ライブラリのインストール\n",
        "2. LLMのAPIキーをセットして、使用するLLMをセット\n",
        "3. Wikipediaから米国都市のドキュメントをダウンロード\n",
        "4. 各都市向けにReActエージェントを作成\n",
        "5. ReActエージェントにIndexnodeを定義\n",
        "6. エージェントを選択するためのトップレベルレトリバーを定義\n",
        "7. クエリのテスト"
      ]
    },
    {
      "cell_type": "markdown",
      "metadata": {
        "id": "SxWKA6fCK0mw"
      },
      "source": [
        "### 1. LlamaIndex関連ライブラリのインストール\n",
        "\n",
        "AuthropicのClaude3とOpenAIのGPT-4、GoogleのGemini、GroqのLlama3をLLMモデルとして利用し、Embedding用モデルはHuggingFaceのモデルを利用する。llama-indexは破壊的変更があったりするので、最新の[0.10](https://note.com/npaka/n/nb8acc1f63312)を指定しています。"
      ]
    },
    {
      "cell_type": "code",
      "execution_count": null,
      "metadata": {
        "id": "csEUaulS0EQ_"
      },
      "outputs": [],
      "source": [
        "%pip install llama-index==0.10.33 llama-index-llms-anthropic llama-index-llms-openai llama-index-llms-gemini llama-index-llms-groq llama-index-embeddings-huggingface python-dotenv"
      ]
    },
    {
      "cell_type": "markdown",
      "metadata": {
        "id": "No_1L4P4K5J2"
      },
      "source": [
        "### 2. LLMのAPIキーをセットして、使用するLLMをセット"
      ]
    },
    {
      "cell_type": "code",
      "execution_count": null,
      "metadata": {
        "id": "6JXQosS80PNK"
      },
      "outputs": [],
      "source": [
        "import os, logging, sys\n",
        "from dotenv import load_dotenv\n",
        "if load_dotenv() == False:\n",
        "    from google.colab import userdata\n",
        "    os.environ[\"ANTHROPIC_API_KEY\"] = userdata.get(\"ANTHROPIC_API_KEY\")\n",
        "    os.environ[\"OPENAI_API_KEY\"] = userdata.get(\"OPENAI_API_KEY\")\n",
        "    os.environ[\"GOOGLE_API_KEY\"] = userdata.get(\"GOOGLE_API_KEY\")\n",
        "    os.environ[\"GROQ_API_KEY\"] = userdata.get(\"GROQ_API_KEY\")\n",
        "from IPython.display import display, HTML\n",
        "\n",
        "# ログレベルの設定\n",
        "logging.basicConfig(stream=sys.stdout, level=logging.DEBUG, force=True)\n",
        "\n",
        "# Anthropicの設定\n",
        "from llama_index.llms.anthropic import Anthropic\n",
        "llm_anthropic = Anthropic(model=\"claude-3-opus-20240229\")\n",
        "\n",
        "# OpenAIの設定\n",
        "from llama_index.llms.openai import OpenAI\n",
        "llm_openai = OpenAI(model=\"gpt-4\")\n",
        "\n",
        "# Geminiの設定\n",
        "from llama_index.llms.gemini import Gemini\n",
        "llm_gemini =  Gemini(model=\"models/gemini-pro\")\n",
        "\n",
        "# Groqの設定\n",
        "from llama_index.llms.groq import Groq\n",
        "llm_groq = Groq(model=\"llama3-70b-8192\")\n",
        "\n",
        "# Embeddingモデルの設定\n",
        "from llama_index.embeddings.huggingface import HuggingFaceEmbedding\n",
        "embed_model = HuggingFaceEmbedding(model_name=\"intfloat/multilingual-e5-small\")\n",
        "\n",
        "# Llamaの設定\n",
        "from llama_index.core import Settings\n",
        "Settings.embed_model = embed_model\n",
        "Settings.chunk_size = 512\n",
        "Settings.llm = llm_anthropic # 利用するLLMを指定"
      ]
    },
    {
      "cell_type": "markdown",
      "metadata": {},
      "source": [
        "### 3. Wikipediaから米国都市のドキュメントをダウンロード\n",
        "\n",
        "「トロント」「シアトル」「シカゴ」「ボストン」「ヒューストン」のWikipedia記事をダウンロードしてRAGパイプラインを作成します。"
      ]
    },
    {
      "cell_type": "code",
      "execution_count": null,
      "metadata": {
        "id": "MozCygK32Zy0"
      },
      "outputs": [],
      "source": [
        "wiki_titles = [\"トロント\", \"シアトル\", \"シカゴ\", \"ボストン\", \"ヒューストン\"]\n",
        "\n",
        "from pathlib import Path\n",
        "import requests\n",
        "\n",
        "for title in wiki_titles:\n",
        "    response = requests.get(\n",
        "        \"https://ja.wikipedia.org/w/api.php\",\n",
        "        params={\n",
        "            \"action\": \"query\",\n",
        "            \"format\": \"json\",\n",
        "            \"titles\": title,\n",
        "            \"prop\": \"extracts\",\n",
        "            \"explaintext\": True,\n",
        "        },\n",
        "    ).json()\n",
        "    page = next(iter(response[\"query\"][\"pages\"].values()))\n",
        "    wiki_text = page[\"extract\"]\n",
        "\n",
        "    data_path = Path(\"data/2_ReactAgent\")\n",
        "    if not data_path.exists():\n",
        "        Path.mkdir(data_path)\n",
        "\n",
        "    with open(data_path / f\"{title}.txt\", \"w\") as fp:\n",
        "        fp.write(wiki_text)\n",
        "\n",
        "# Load all wiki documents\n",
        "from llama_index.core import SimpleDirectoryReader\n",
        "\n",
        "city_docs = {}\n",
        "for wiki_title in wiki_titles:\n",
        "    city_docs[wiki_title] = SimpleDirectoryReader(\n",
        "        input_files=[f\"data/2_ReactAgent/{wiki_title}.txt\"]\n",
        "    ).load_data()"
      ]
    },
    {
      "cell_type": "markdown",
      "metadata": {
        "id": "2yPVzN4TvWuJ"
      },
      "source": [
        "### 4. 各都市向けにReActエージェントを作成"
      ]
    },
    {
      "cell_type": "code",
      "execution_count": null,
      "metadata": {
        "id": "K3-zz44YvWuJ"
      },
      "outputs": [],
      "source": [
        "from llama_index.core.agent import ReActAgent\n",
        "from llama_index.core import VectorStoreIndex, SummaryIndex\n",
        "from llama_index.core.tools import QueryEngineTool, ToolMetadata\n",
        "\n",
        "# Build agents dictionary\n",
        "agents = {}\n",
        "\n",
        "for wiki_title in wiki_titles:\n",
        "    # build vector index\n",
        "    vector_index = VectorStoreIndex.from_documents(\n",
        "        city_docs[wiki_title],\n",
        "    )\n",
        "    # build summary index\n",
        "    summary_index = SummaryIndex.from_documents(\n",
        "        city_docs[wiki_title],\n",
        "    )\n",
        "    # define query engines\n",
        "    vector_query_engine = vector_index.as_query_engine()\n",
        "    summary_query_engine = summary_index.as_query_engine()\n",
        "\n",
        "    # define tools\n",
        "    query_engine_tools = [\n",
        "        QueryEngineTool(\n",
        "            query_engine=vector_query_engine,\n",
        "            metadata=ToolMetadata(\n",
        "                name=\"vector_tool\",\n",
        "                description=(\n",
        "                    f\"{wiki_title}から特定のコンテキストを取得するのに利用します.\"\n",
        "                ),\n",
        "            ),\n",
        "        ),\n",
        "        QueryEngineTool(\n",
        "            query_engine=summary_query_engine,\n",
        "            metadata=ToolMetadata(\n",
        "                name=\"summary_tool\",\n",
        "                description=(\n",
        "                    f\"{wiki_title}に関連する回答をまとめるのに利用します.\"\n",
        "                ),\n",
        "            ),\n",
        "        ),\n",
        "    ]\n",
        "\n",
        "    # build agent\n",
        "    agent = ReActAgent.from_tools(\n",
        "        query_engine_tools,\n",
        "        llm=Settings.llm,\n",
        "        verbose=True,\n",
        "    )\n",
        "\n",
        "    agents[wiki_title] = agent"
      ]
    },
    {
      "cell_type": "markdown",
      "metadata": {
        "id": "oKUf8VKDvWuK"
      },
      "source": [
        "### 5. ReActエージェントにIndexnodeを定義"
      ]
    },
    {
      "cell_type": "code",
      "execution_count": 12,
      "metadata": {
        "id": "HyNw_hvUvWuK"
      },
      "outputs": [],
      "source": [
        "from llama_index.core.schema import IndexNode\n",
        "\n",
        "# define top-level nodes\n",
        "objects = []\n",
        "for wiki_title in wiki_titles:\n",
        "    # define index node that links to these agents\n",
        "    wiki_summary = (\n",
        "        f\"このコンテンツには{wiki_title}に関するウィキペディアの記事が含まれています.\"\n",
        "        f\"{wiki_title}に関する具体的な事実を調べる必要がある場合は、このインデックスを使用してください.\\n\"\n",
        "        \"複数の都市を分析する場合は、このインデックスを使用しないでください.\"\n",
        "    )\n",
        "    node = IndexNode(\n",
        "        text=wiki_summary, index_id=wiki_title, obj=agents[wiki_title]\n",
        "    )\n",
        "    objects.append(node)"
      ]
    },
    {
      "cell_type": "markdown",
      "metadata": {
        "id": "y9T3R1hZvWuK"
      },
      "source": [
        "### 6. エージェントを選択するためのトップレベルレトリバーを定義"
      ]
    },
    {
      "cell_type": "code",
      "execution_count": null,
      "metadata": {
        "id": "QdyS_E_w3t56"
      },
      "outputs": [],
      "source": [
        "vector_index = VectorStoreIndex(\n",
        "    objects=objects,\n",
        ")\n",
        "query_engine = vector_index.as_query_engine(similarity_top_k=1, verbose=True)"
      ]
    },
    {
      "cell_type": "markdown",
      "metadata": {
        "id": "AtLv0KwDvWuK"
      },
      "source": [
        "### 7. クエリのテスト"
      ]
    },
    {
      "cell_type": "code",
      "execution_count": null,
      "metadata": {
        "id": "K1_zaarKvWuK",
        "outputId": "b759caad-e379-4c83-e194-c7d322dbf427"
      },
      "outputs": [],
      "source": [
        "response = query_engine.query(\"トロントで有名なものはなんですか？\")\n",
        "display(HTML(f'<p style=\"font-size:20px\">{response.response}</p>'))"
      ]
    },
    {
      "cell_type": "code",
      "execution_count": null,
      "metadata": {
        "id": "HQFKvSArvWuL",
        "outputId": "302acdd8-777c-410a-941b-1c3294b02710"
      },
      "outputs": [],
      "source": [
        "response = query_engine.query(\"ヒューストンは誰がいつ設立しましたか?\")\n",
        "display(HTML(f'<p style=\"font-size:20px\">{response.response}</p>'))"
      ]
    },
    {
      "cell_type": "code",
      "execution_count": null,
      "metadata": {
        "id": "-4DhR6iXvWuL",
        "outputId": "932063b1-dff9-43cf-f72c-bd34f89a3312"
      },
      "outputs": [],
      "source": [
        "response = query_engine.query(\"ボストンのスポーツチームについてまとめてください。\")\n",
        "display(HTML(f'<p style=\"font-size:20px\">{response.response}</p>'))"
      ]
    },
    {
      "cell_type": "code",
      "execution_count": null,
      "metadata": {
        "id": "nkLoKVu6vWuM",
        "outputId": "fced16e9-17d0-4d1a-e263-e5ea3004dcb6"
      },
      "outputs": [],
      "source": [
        "response = query_engine.query(\"シカゴの良い面をすべてまとめてください。\")\n",
        "display(HTML(f'<p style=\"font-size:20px\">{response.response}</p>'))"
      ]
    }
  ],
  "metadata": {
    "colab": {
      "include_colab_link": true,
      "provenance": []
    },
    "kernelspec": {
      "display_name": "Python 3 (ipykernel)",
      "language": "python",
      "name": "python3"
    },
    "language_info": {
      "codemirror_mode": {
        "name": "ipython",
        "version": 3
      },
      "file_extension": ".py",
      "mimetype": "text/x-python",
      "name": "python",
      "nbconvert_exporter": "python",
      "pygments_lexer": "ipython3",
      "version": "3.12.3"
    }
  },
  "nbformat": 4,
  "nbformat_minor": 0
}
